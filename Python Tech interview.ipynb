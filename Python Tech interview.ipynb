{
 "cells": [
  {
   "cell_type": "markdown",
   "id": "93cd6ed2",
   "metadata": {},
   "source": [
    "# Tech interview followup\n"
   ]
  },
  {
   "cell_type": "markdown",
   "id": "bb1c2252",
   "metadata": {},
   "source": [
    "## Python"
   ]
  },
  {
   "cell_type": "markdown",
   "id": "b258d998",
   "metadata": {},
   "source": [
    "### 1.- Diferencia entre lista y tupla:\n",
    "* Las listas se crean con corchetes y son mutbles\n",
    "* Las tuplas se crear con paréntesis y son inmutables"
   ]
  },
  {
   "cell_type": "markdown",
   "id": "34165241",
   "metadata": {},
   "source": [
    "### 2.- lambda functions\n",
    "Son funciones pequeñas anónimas- Se pueden usar dentro de otras funciones. Se puede usar la misma función para definir otras funciones en el mismo programa."
   ]
  },
  {
   "cell_type": "code",
   "execution_count": 4,
   "id": "c8281f55",
   "metadata": {},
   "outputs": [
    {
     "data": {
      "text/plain": [
       "6"
      ]
     },
     "execution_count": 4,
     "metadata": {},
     "output_type": "execute_result"
    }
   ],
   "source": [
    "def myFunction(n):\n",
    "    return lambda a: a * n\n",
    "\n",
    "duplicar = myFunction(2)\n",
    "triplicar = myFunction(3) \n",
    "\n",
    "duplicar(2) #4\n",
    "triplicar(2) #6"
   ]
  },
  {
   "cell_type": "markdown",
   "id": "0791c518",
   "metadata": {},
   "source": [
    "### 3.- Errores y excepciones\n",
    "Existen 2 tipos de errores, syntax errors y exceptions\n",
    "* **Syntax errors** : errores de escritura\n",
    "* **Exceptions** : errores detectados durante la ejecución"
   ]
  },
  {
   "cell_type": "markdown",
   "id": "bf220236",
   "metadata": {},
   "source": [
    "### 4.- Decoradores\n",
    "Modifican el comportmiento de una función, sin modificarla permanentemente.<br>\n",
    "La sitaxis es: custom_decorator(function) -> wrapper"
   ]
  },
  {
   "cell_type": "code",
   "execution_count": 17,
   "id": "f0aa0501",
   "metadata": {},
   "outputs": [
    {
     "name": "stdout",
     "output_type": "stream",
     "text": [
      "Antes de la ejecución\n",
      "Despues de la ejecución\n",
      "6\n"
     ]
    }
   ],
   "source": [
    "def custom_decorator(function):\n",
    "    def wrapper(*args, **kwargs):\n",
    "        print(\"Antes de la ejecución\")\n",
    "        res = function(*args, **kwargs)\n",
    "        print(\"Despues de la ejecución\")\n",
    "        return res\n",
    "\n",
    "    return wrapper\n",
    "\n",
    "#Registrar la función en el decorador\n",
    "@custom_decorator\n",
    "def saludar():\n",
    "    print(\"Hi\")\n",
    "    \n",
    "\n",
    "@custom_decorator\n",
    "def suma(a, b):\n",
    "    return a + b\n",
    "\n",
    "print(suma(2, 4))\n",
    "\n",
    "\n",
    "\n"
   ]
  }
 ],
 "metadata": {
  "kernelspec": {
   "display_name": "Python 3 (ipykernel)",
   "language": "python",
   "name": "python3"
  },
  "language_info": {
   "codemirror_mode": {
    "name": "ipython",
    "version": 3
   },
   "file_extension": ".py",
   "mimetype": "text/x-python",
   "name": "python",
   "nbconvert_exporter": "python",
   "pygments_lexer": "ipython3",
   "version": "3.11.2"
  }
 },
 "nbformat": 4,
 "nbformat_minor": 5
}
