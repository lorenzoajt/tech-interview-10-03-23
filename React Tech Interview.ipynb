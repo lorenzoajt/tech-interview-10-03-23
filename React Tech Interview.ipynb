{
 "cells": [
  {
   "cell_type": "markdown",
   "id": "714db80b",
   "metadata": {},
   "source": [
    "# React"
   ]
  },
  {
   "cell_type": "markdown",
   "id": "59c43446",
   "metadata": {},
   "source": [
    "## 1.- Spread operator\n",
    "Copia toda o parte de un arreglo/objeto en otro arreglo/objeto."
   ]
  },
  {
   "cell_type": "code",
   "execution_count": 6,
   "id": "d0eb1778",
   "metadata": {},
   "outputs": [
    {
     "name": "stdout",
     "output_type": "stream",
     "text": [
      "\u001b[33m3\u001b[39m \u001b[33m4\u001b[39m \u001b[33m5\u001b[39m \u001b[33m6\u001b[39m\n"
     ]
    }
   ],
   "source": [
    "const a = [1, 2]\n",
    "const b = [3, 4]\n",
    "const combined = [...a, ...b] // 1, 2, 3, 4\n",
    "\n",
    "\n",
    "const numbers = [1, 2, 3, 4, 5, 6];\n",
    "\n",
    "const [one, two, ...rest] = numbers;\n",
    "\n",
    "console.log(...rest) //3 4 5 6\n",
    "\n"
   ]
  },
  {
   "cell_type": "markdown",
   "id": "31a0fc2c",
   "metadata": {},
   "source": [
    "## 2.- Regular expressions\n",
    "Una regular expression es un patrón de caractres usado para hacer funciones pattern-matching \"search and replace\" en texto"
   ]
  },
  {
   "cell_type": "markdown",
   "id": "3e0c9a1d",
   "metadata": {},
   "source": [
    "### Syntax \n",
    " /pattern/modifiers; \n",
    "### Modifiers \n",
    "* g : global match\n",
    "* i : case insensitive\n",
    "* m : multiline matching"
   ]
  },
  {
   "cell_type": "code",
   "execution_count": 16,
   "id": "cd6e559f",
   "metadata": {},
   "outputs": [
    {
     "name": "stdout",
     "output_type": "stream",
     "text": [
      "\u001b[33m6\u001b[39m\n"
     ]
    }
   ],
   "source": [
    "//STRING METHODS search()\n",
    "const text = \"Hello World\"\n",
    "\n",
    "//const n = text.search(\"w\")// -1\n",
    "//const n = text.search(\"Wo\")// 6\n",
    "//const n = text.search(\"World\") // 6\n",
    "\n",
    "const n = text.search(/world/i) // 6\n",
    "\n",
    "console.log(n) //6"
   ]
  },
  {
   "cell_type": "code",
   "execution_count": 18,
   "id": "ef0d01ba",
   "metadata": {},
   "outputs": [
    {
     "name": "stdout",
     "output_type": "stream",
     "text": [
      "Visit Monterrey\n"
     ]
    }
   ],
   "source": [
    "// STRING METHOD replace()\n",
    "let text = \"Visit Mexico\"\n",
    "let res = text.replace(\"Mexico\", \"Monterrey\") // Visit Monterrey\n",
    "console.log(res) "
   ]
  },
  {
   "cell_type": "markdown",
   "id": "c6fc0c87",
   "metadata": {},
   "source": [
    "### 3.- Callback functions\n",
    "Es una función pasada a otra función como argumento, para ser utilizada dentro de esta función \"Parent\" para completar algún tipo de acción"
   ]
  },
  {
   "cell_type": "code",
   "execution_count": 21,
   "id": "046c1fe8",
   "metadata": {},
   "outputs": [
    {
     "name": "stdout",
     "output_type": "stream",
     "text": [
      "Hola, Lorenzo\n"
     ]
    }
   ],
   "source": [
    "function saludo(name){\n",
    "    console.log(`Hola, ${name}`)\n",
    "}\n",
    "\n",
    "function nameFunction(callback){\n",
    "    const name = \"Lorenzo\"\n",
    "    callback(name)\n",
    "}\n",
    "\n",
    "nameFunction(saludo)"
   ]
  },
  {
   "cell_type": "markdown",
   "id": "6b33ecec",
   "metadata": {},
   "source": [
    "### 4.- Ciclo de vida de un componente\n",
    "Cada componente tiene 3 fases: Mounting, Updating, Unmounting\n",
    "**Mounting**: Poner los elementos en el DOM. \n",
    "**Updating**: Cada que hay un cambio en el estado o los props\n",
    "**Unmounting**: Cuando se remueve el componente del DOM\n"
   ]
  },
  {
   "cell_type": "markdown",
   "id": "372d4b07",
   "metadata": {},
   "source": [
    "### 6.- Async action redux\n",
    "Redux por si solo no puede hacer operaciones asíncronas. Cualquier async action tiene que pasar fuera del store.\n",
    "Para hacer operaciones asíncronas en redux debemos tener un middleware. Redux tiene una versión oficial de este middleware llamado Thunk\n"
   ]
  },
  {
   "cell_type": "code",
   "execution_count": null,
   "id": "24000e01",
   "metadata": {},
   "outputs": [],
   "source": [
    "//store.js\n",
    "import thunkMiddleware from 'redux-thunk'\n",
    "...\n",
    "const composedEnhancer = composeWithDevTools(applyMiddleware(thunkMiddleware))\n",
    "\n",
    "//ahora el store puede aceptar funciones thunk en el dispatch\n",
    "const store = createStore(rootReducer, composedEnhancer)\n",
    "export default store"
   ]
  },
  {
   "cell_type": "code",
   "execution_count": null,
   "id": "95cb0bab",
   "metadata": {},
   "outputs": [],
   "source": [
    "//Thunk function\n",
    "export async function fetchData(dispatch, getState) {\n",
    "  const response = await client.get('/fakeApi/data')\n",
    "  dispatch({ type: 'data/dataLoaded', payload: response.data })\n",
    "}\n"
   ]
  },
  {
   "cell_type": "markdown",
   "id": "de553093",
   "metadata": {},
   "source": [
    "### 7.- HOCs\n",
    "Significa High Order Component. Es una forma de reusar la lógica de un componente. Recibe un componente y devuelve un nuevo componente."
   ]
  },
  {
   "cell_type": "code",
   "execution_count": null,
   "id": "8497588a",
   "metadata": {},
   "outputs": [],
   "source": [
    "//creation of the HOC. It takes a component as an argument\n",
    "const withHighOrderComponent = (Component) => (props) => {\n",
    "    //we can add here some validations and conditional rendering\n",
    "    if (props.isLoading) return <div>Loading data.</div>;\n",
    "    if (!props.data) return <div>No data loaded yet.</div>;\n",
    "    if (!props.data.length) return <div>Data is empty.</div>;\n",
    "    //returning the component\n",
    "    <Component {...props} />\n",
    "    \n",
    "}\n",
    "    \n",
    "\n",
    "//main app \n",
    "const App = () => {\n",
    "    const { data, isLoading } = fetchData();\n",
    "    //rendering the enhanced TodoList component by a HOC\n",
    "    return <TodoList data={data} isLoading={isLoading} />;\n",
    "};\n",
    "\n",
    "//this is the component base we want to enhance with HOC\n",
    "const BaseTodoList = ({ data }) => {\n",
    "    return (\n",
    "        <ul>\n",
    "          {data.map((item) => (\n",
    "            //let's assume its creation :)\n",
    "            <TodoItem key={item.id} item={item} />\n",
    "          ))}\n",
    "        </ul>\n",
    "    );\n",
    "};\n",
    "\n",
    "//assigning the name of our new TodoList component anhanced by a HOC\n",
    "const TodoList = withHighOrderComponent(BaseTodoList)"
   ]
  },
  {
   "cell_type": "code",
   "execution_count": null,
   "id": "1bedf19c",
   "metadata": {},
   "outputs": [],
   "source": []
  }
 ],
 "metadata": {
  "kernelspec": {
   "display_name": "JavaScript",
   "language": "javascript",
   "name": "jslab"
  },
  "language_info": {
   "file_extension": ".js",
   "mimetype": "text/javascript",
   "name": "javascript",
   "version": ""
  }
 },
 "nbformat": 4,
 "nbformat_minor": 5
}
